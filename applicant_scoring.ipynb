✅ 1. Getting started: importing and preparing data
import pandas as pd
import matplotlib.pyplot as plt

# Load sample datasets (replace with your actual source)
applications = pd.read_csv("applications.csv")
industries = pd.read_csv("industries.csv")

# Remove duplicate applicants
applications = applications.drop_duplicates(subset="applicant_id")

# Fill missing values
applications["External Rating"] = applications["External Rating"].fillna(0)
applications["Education level"] = applications["Education level"].fillna("Secondary")

# Preview cleaned data
print(applications.head())


✅ 2. Calculation of the applicant's rating
# Merge industry-based scoring data
merged_data = applications.merge(industries, on='Industry', how='left')

# Initialize score with industry "Score"
merged_data["Rating"] = merged_data["Score"].fillna(0)

# Add custom business logic to scoring
merged_data["Rating"] += ((merged_data["Age"] >= 35) & (merged_data["Age"] <= 55)) * 20
merged_data["Rating"] += (merged_data["Applied at"].dt.weekday < 5) * 20  # Weekdays only
merged_data["Rating"] += (merged_data["Marital status"] == "Married") * 20
merged_data["Rating"] += merged_data["Location"].str.contains("Kyiv|Kyivska", case=False, na=False) * 10
merged_data["Rating"] += (merged_data["External Rating"] >= 7) * 20
merged_data["Rating"] -= (merged_data["External Rating"] <= 2) * 20

# Disqualify applications with no amount or missing external rating
merged_data.loc[
    merged_data["Amount"].isna() | (merged_data["External Rating"] == 0),
    "Rating"
] = 0

# Show scored applicants
print(merged_data[["applicant_id", "Rating"]].head())


✅ 3. Filtering applications with a positive rating
# Keep only applicants with a score above zero
accepted_applications = merged_data[merged_data["Rating"] > 0]

# Show top-rated valid applications
print(accepted_applications[["applicant_id", "Rating"]].head())



✅ 4. Analysis of application submissions by week
# Ensure datetime format
applications["Applied at"] = pd.to_datetime(applications["Applied at"], errors="coerce")

# Calculate ISO week number
applications["Submission Week"] = applications["Applied at"].dt.isocalendar().week

# Compute average external rating per week
weekly_avg_rating = applications.groupby("Submission Week")["External Rating"].mean()

# Display trend
print(weekly_avg_rating)


✅ 5. (Optional) Graph construction
# Visualize average rating per week
weekly_avg_rating.plot(kind='bar', figsize=(10, 5), color='skyblue')
plt.title("Average External Rating per Submission Week")
plt.xlabel("Week Number")
plt.ylabel("Average Rating")
plt.grid(axis='y', linestyle='--', alpha=0.7)
plt.tight_layout()
plt.show()
